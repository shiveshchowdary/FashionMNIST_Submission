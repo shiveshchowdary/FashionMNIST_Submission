{
 "cells": [
  {
   "cell_type": "markdown",
   "id": "2e7fb194-c8a6-4038-a0dc-687cd1be26ab",
   "metadata": {},
   "source": [
    "## Data Loading and Preprocessing"
   ]
  },
  {
   "cell_type": "code",
   "execution_count": 1,
   "id": "fcdba5b3",
   "metadata": {},
   "outputs": [],
   "source": [
    "import numpy as np\n",
    "import pandas as pd\n",
    "import matplotlib.pyplot as plt"
   ]
  },
  {
   "cell_type": "code",
   "execution_count": 2,
   "id": "15537081",
   "metadata": {},
   "outputs": [],
   "source": [
    "import os\n",
    "current_directory = os.getcwd()\n",
    "parent_directory = os.path.dirname(current_directory)"
   ]
  },
  {
   "cell_type": "code",
   "execution_count": 3,
   "id": "ceb00bcc",
   "metadata": {},
   "outputs": [],
   "source": [
    "#reading training and validation data and its labels\n",
    "train_data = pd.read_csv(parent_directory + '/Data/training_data.csv')\n",
    "val_data = pd.read_csv(parent_directory + '/Data/validation_data.csv')\n",
    "\n",
    "train_labels = train_data['label'].values\n",
    "val_labels = val_data['label'].values\n",
    "\n",
    "train_labels = np.array(train_labels,dtype='float64')\n",
    "val_labels = np.array(val_labels,dtype='float64')"
   ]
  },
  {
   "cell_type": "code",
   "execution_count": 4,
   "id": "f9240250",
   "metadata": {},
   "outputs": [],
   "source": [
    "#converting the 784 images into (28,28,1) to train a CNN\n",
    "train_images = []\n",
    "val_images = []\n",
    "\n",
    "for i in range(len(train_data)):\n",
    "    train_images.append(train_data.iloc[i,:].values[1:].reshape(28,28,1))\n",
    "for i in range(len(val_data)):\n",
    "    val_images.append(val_data.iloc[i,:].values[1:].reshape(28,28,1))"
   ]
  },
  {
   "cell_type": "code",
   "execution_count": 5,
   "id": "66298817",
   "metadata": {},
   "outputs": [],
   "source": [
    "def plot_img(img):\n",
    "    plt.imshow(img, cmap='gray')\n",
    "    plt.show()\n",
    "    return"
   ]
  },
  {
   "cell_type": "code",
   "execution_count": 6,
   "id": "c7d5391b",
   "metadata": {},
   "outputs": [
    {
     "data": {
      "image/png": "[encoded data removed]",
      "text/plain": [
       "<Figure size 640x480 with 1 Axes>"
      ]
     },
     "metadata": {},
     "output_type": "display_data"
    }
   ],
   "source": [
    "plot_img(train_images[1])"
   ]
  },
  {
   "cell_type": "code",
   "execution_count": 7,
   "id": "043482f0",
   "metadata": {},
   "outputs": [],
   "source": [
    "#scaling images so that the pixel values fall in between 0 and 1\n",
    "train_images = np.array(train_images,dtype='float64')/255.0\n",
    "val_images = np.array(val_images,dtype='float64')/255.0\n",
    "\n",
    "train_labels = train_labels.reshape(train_labels.shape[0],1)\n",
    "val_labels = val_labels.reshape(val_labels.shape[0],1)"
   ]
  },
  {
   "cell_type": "code",
   "execution_count": 8,
   "id": "c0d1dae2",
   "metadata": {},
   "outputs": [
    {
     "name": "stdout",
     "output_type": "stream",
     "text": [
      "Training Data Shape : (45000, 28, 28, 1)\n",
      "Training Labels Shape : (45000, 1)\n",
      "Validation Data Shape : (15000, 28, 28, 1)\n",
      "Validation Labels Shape : (15000, 1)\n"
     ]
    }
   ],
   "source": [
    "#printing train validation split data shapes\n",
    "print('Training Data Shape :', train_images.shape)\n",
    "print('Training Labels Shape :', train_labels.shape)\n",
    "print('Validation Data Shape :', val_images.shape)\n",
    "print('Validation Labels Shape :', val_labels.shape)"
   ]
  },
  {
   "cell_type": "markdown",
   "id": "73768e2f-feb9-4993-abd4-8c4076545b19",
   "metadata": {},
   "source": [
    "## Training and Tuning CNN"
   ]
  },
  {
   "cell_type": "code",
   "execution_count": 54,
   "id": "a6996cfe-ddf7-4cd2-bb77-2ccd0630b51c",
   "metadata": {},
   "outputs": [],
   "source": [
    "from utils import ModelCNN"
   ]
  },
  {
   "cell_type": "code",
   "execution_count": 55,
   "id": "d53d08b3",
   "metadata": {},
   "outputs": [],
   "source": [
    "cnn = ModelCNN()"
   ]
  },
  {
   "cell_type": "code",
   "execution_count": null,
   "id": "368092cc",
   "metadata": {},
   "outputs": [],
   "source": [
    "parameter_grid = {\n",
    "    \"convolution1 filters\" : [16, 32, 64],\n",
    "    \"convolution2 filters\" : [32, 64, 128],\n",
    "    \"filter_size\" : [2,3],\n",
    "    \"dense_layer\" : [32, 64]\n",
    "}"
   ]
  },
  {
   "cell_type": "code",
   "execution_count": null,
   "id": "b11fd221",
   "metadata": {},
   "outputs": [],
   "source": [
    "best_parameters_cnn, best_accuracy_cnn, all_results_cnn = cnn.grid_search_cnn(train_images, train_labels, val_images, val_labels, parameter_grid,epochs= 20 )"
   ]
  },
  {
   "cell_type": "code",
   "execution_count": null,
   "id": "e1d592c7-6e2b-42a5-aecb-b17890eed0f8",
   "metadata": {},
   "outputs": [],
   "source": [
    "save_results_cnn = []\n",
    "for dic in all_results_cnn:\n",
    "    res_dic = {}\n",
    "    res_dic['parameters'] = dic['parameters']\n",
    "    res_dic['accuracy'] = dic['accuracy']\n",
    "    save_results_cnn.append(res_dic)"
   ]
  },
  {
   "cell_type": "code",
   "execution_count": null,
   "id": "2cd61505-5dc3-4b04-92dc-507cdb4499ac",
   "metadata": {},
   "outputs": [],
   "source": [
    "import json\n",
    "file_path = \"tuning_results/results_cnn.json\"\n",
    "\n",
    "# Write the list of dictionaries to the file\n",
    "with open(file_path, 'w') as file:\n",
    "    json.dump(save_results_cnn, file)\n",
    "\n",
    "print(f\"results has been saved to {file_path}\")"
   ]
  },
  {
   "cell_type": "markdown",
   "id": "e1350f58-7b03-42e9-8e0b-b77dcf2452e7",
   "metadata": {},
   "source": [
    "## Training and Tuning ResNet"
   ]
  },
  {
   "cell_type": "code",
   "execution_count": 9,
   "id": "c4fba767-210f-4c1c-977a-b2899106fb44",
   "metadata": {},
   "outputs": [],
   "source": [
    "from utils import ModelResNet"
   ]
  },
  {
   "cell_type": "code",
   "execution_count": 10,
   "id": "19d5b1f2-8b19-42ed-8491-f6e1604bc920",
   "metadata": {},
   "outputs": [],
   "source": [
    "res_net = ModelResNet()"
   ]
  },
  {
   "cell_type": "code",
   "execution_count": 11,
   "id": "b42f55d7-99a8-4cda-8db9-86a9c01ed072",
   "metadata": {},
   "outputs": [],
   "source": [
    "parameter_grid = {\n",
    "    \"residual blocks\" : [2, 3],\n",
    "    \"filters\" : [16, 32, 64]\n",
    "}"
   ]
  },
  {
   "cell_type": "code",
   "execution_count": 12,
   "id": "fc268fdc-efd3-4d53-bfb6-c4d1e0f453ad",
   "metadata": {},
   "outputs": [
    {
     "name": "stdout",
     "output_type": "stream",
     "text": [
      "469/469 [==============================] - 4s 9ms/step - loss: 0.3101 - accuracy: 0.8876\n",
      "469/469 [==============================] - 11s 23ms/step - loss: 0.2483 - accuracy: 0.9121\n",
      "469/469 [==============================] - 27s 57ms/step - loss: 0.2959 - accuracy: 0.8963\n",
      "469/469 [==============================] - 7s 14ms/step - loss: 0.3427 - accuracy: 0.8774\n",
      "469/469 [==============================] - 16s 34ms/step - loss: 0.2301 - accuracy: 0.9198\n",
      "469/469 [==============================] - 37s 79ms/step - loss: 0.2183 - accuracy: 0.9281\n"
     ]
    }
   ],
   "source": [
    "best_parameters_resnet, best_accuracy_resnet, all_results_resnet = res_net.grid_search_resnet(train_images, train_labels, val_images, val_labels, parameter_grid, epochs = 50)"
   ]
  },
  {
   "cell_type": "code",
   "execution_count": 14,
   "id": "b7a0fcd5-3919-4b6c-81a8-12ef9fb97b6b",
   "metadata": {},
   "outputs": [],
   "source": [
    "save_results_res = []\n",
    "for dic in all_results_resnet:\n",
    "    res_dic = {}\n",
    "    res_dic['parameters'] = dic['parameters']\n",
    "    res_dic['accuracy'] = dic['accuracy']\n",
    "    save_results_res.append(res_dicb"
   ]
  },
  {
   "cell_type": "code",
   "execution_count": 17,
   "id": "9df26927-e4c9-481a-95d4-e1a693701ed0",
   "metadata": {},
   "outputs": [
    {
     "name": "stdout",
     "output_type": "stream",
     "text": [
      "results has been saved to results_res_1.json\n"
     ]
    }
   ],
   "source": [
    "import json\n",
    "file_path = \"tuning_results/results_res_1.json\"\n",
    "\n",
    "# Write the list of dictionaries to the file\n",
    "with open(file_path, 'w') as file:\n",
    "    json.dump(save_results_res, file)\n",
    "\n",
    "print(f\"results has been saved to {file_path}\")"
   ]
  }
 ],
 "metadata": {
  "kernelspec": {
   "display_name": "Python 3 (ipykernel)",
   "language": "python",
   "name": "python3"
  },
  "language_info": {
   "codemirror_mode": {
    "name": "ipython",
    "version": 3
   },
   "file_extension": ".py",
   "mimetype": "text/x-python",
   "name": "python",
   "nbconvert_exporter": "python",
   "pygments_lexer": "ipython3",
   "version": "3.9.18"
  }
 },
 "nbformat": 4,
 "nbformat_minor": 5
}
